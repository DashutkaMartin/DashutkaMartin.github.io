{
 "cells": [
  {
   "cell_type": "code",
   "execution_count": 4,
   "metadata": {},
   "outputs": [
    {
     "name": "stdout",
     "output_type": "stream",
     "text": [
      "F(x) = 1.7165256995489035\n",
      "F'(x) = -1.4444065708474794\n",
      "F''(x) = 0.2879834260858309\n"
     ]
    }
   ],
   "source": [
    "import math as m\n",
    "\n",
    "class FF:\n",
    "    def __init__(self):\n",
    "        pass\n",
    "    # Метод для вычисления значения функции F(x) = e^cos(x)\n",
    "    def evaluate(self, x):\n",
    "        return m.exp(m.cos(x))\n",
    "\n",
    "    # Метод для вычисления первой производной F'(x) = -e^cos(x) * sin(x)\n",
    "    def derivative(self, x):\n",
    "        return -m.exp(m.cos(x)) * m.sin(x)\n",
    "\n",
    "    # Метод для вычисления второй производной F''(x) = e^cos(x) * sin^2(x) - e^cos(x) * cos(x)\n",
    "    def derivative2(self, x):\n",
    "        return m.exp(m.cos(x)) * (m.sin(x)**2 - m.cos(x))\n",
    "\n",
    "f = FF()\n",
    "x = 1.0\n",
    "\n",
    "print(\"F(x) =\", f.evaluate(x))\n",
    "print(\"F'(x) =\", f.derivative(x))\n",
    "print(\"F''(x) =\", f.derivative2(x))\n"
   ]
  }
 ],
 "metadata": {
  "kernelspec": {
   "display_name": "Python 3",
   "language": "python",
   "name": "python3"
  },
  "language_info": {
   "codemirror_mode": {
    "name": "ipython",
    "version": 3
   },
   "file_extension": ".py",
   "mimetype": "text/x-python",
   "name": "python",
   "nbconvert_exporter": "python",
   "pygments_lexer": "ipython3",
   "version": "3.11.9"
  }
 },
 "nbformat": 4,
 "nbformat_minor": 2
}
